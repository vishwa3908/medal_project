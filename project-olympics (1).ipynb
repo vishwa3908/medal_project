{
 "cells": [
  {
   "cell_type": "code",
   "execution_count": 1,
   "id": "44f444e8",
   "metadata": {
    "_cell_guid": "b1076dfc-b9ad-4769-8c92-a6c4dae69d19",
    "_uuid": "8f2839f25d086af736a60e9eeb907d3b93b6e0e5",
    "execution": {
     "iopub.execute_input": "2021-09-19T14:01:07.991945Z",
     "iopub.status.busy": "2021-09-19T14:01:07.991186Z",
     "iopub.status.idle": "2021-09-19T14:01:08.007366Z",
     "shell.execute_reply": "2021-09-19T14:01:08.006507Z",
     "shell.execute_reply.started": "2021-09-19T13:49:54.368029Z"
    },
    "papermill": {
     "duration": 0.056189,
     "end_time": "2021-09-19T14:01:08.007587",
     "exception": false,
     "start_time": "2021-09-19T14:01:07.951398",
     "status": "completed"
    },
    "tags": []
   },
   "outputs": [
    {
     "name": "stdout",
     "output_type": "stream",
     "text": [
      "/kaggle/input/paralmpic-2020/Paralympic_Medal_Count.csv\n",
      "/kaggle/input/2021-olympics-medals-in-tokyo/Tokyo Medals 2021.csv\n"
     ]
    }
   ],
   "source": [
    "# This Python 3 environment comes with many helpful analytics libraries installed\n",
    "# It is defined by the kaggle/python Docker image: https://github.com/kaggle/docker-python\n",
    "# For example, here's several helpful packages to load\n",
    "\n",
    "import numpy as np # linear algebra\n",
    "import pandas as pd # data processing, CSV file I/O (e.g. pd.read_csv)\n",
    "\n",
    "# Input data files are available in the read-only \"../input/\" directory\n",
    "# For example, running this (by clicking run or pressing Shift+Enter) will list all files under the input directory\n",
    "\n",
    "import os\n",
    "for dirname, _, filenames in os.walk('/kaggle/input'):\n",
    "    for filename in filenames:\n",
    "        print(os.path.join(dirname, filename))\n",
    "\n",
    "# You can write up to 20GB to the current directory (/kaggle/working/) that gets preserved as output when you create a version using \"Save & Run All\" \n",
    "# You can also write temporary files to /kaggle/temp/, but they won't be saved outside of the current session"
   ]
  },
  {
   "cell_type": "markdown",
   "id": "3e80a97b",
   "metadata": {
    "papermill": {
     "duration": 0.027238,
     "end_time": "2021-09-19T14:01:08.063268",
     "exception": false,
     "start_time": "2021-09-19T14:01:08.036030",
     "status": "completed"
    },
    "tags": []
   },
   "source": [
    "# **IMPORTING LIBRARIES**"
   ]
  },
  {
   "cell_type": "code",
   "execution_count": 2,
   "id": "e29d6023",
   "metadata": {
    "execution": {
     "iopub.execute_input": "2021-09-19T14:01:08.139994Z",
     "iopub.status.busy": "2021-09-19T14:01:08.138942Z",
     "iopub.status.idle": "2021-09-19T14:01:08.142021Z",
     "shell.execute_reply": "2021-09-19T14:01:08.141329Z",
     "shell.execute_reply.started": "2021-09-19T13:49:54.380654Z"
    },
    "papermill": {
     "duration": 0.044755,
     "end_time": "2021-09-19T14:01:08.142172",
     "exception": false,
     "start_time": "2021-09-19T14:01:08.097417",
     "status": "completed"
    },
    "tags": []
   },
   "outputs": [],
   "source": [
    "from os import name\n",
    "import numpy as np\n",
    "import pandas as pd\n",
    "from matplotlib import pyplot as plt\n",
    "from matplotlib import style"
   ]
  },
  {
   "cell_type": "markdown",
   "id": "5180c329",
   "metadata": {
    "papermill": {
     "duration": 0.02499,
     "end_time": "2021-09-19T14:01:08.201576",
     "exception": false,
     "start_time": "2021-09-19T14:01:08.176586",
     "status": "completed"
    },
    "tags": []
   },
   "source": [
    "# **IMPORTING DATASETS**"
   ]
  },
  {
   "cell_type": "code",
   "execution_count": 3,
   "id": "4249b6ec",
   "metadata": {
    "execution": {
     "iopub.execute_input": "2021-09-19T14:01:08.260954Z",
     "iopub.status.busy": "2021-09-19T14:01:08.260154Z",
     "iopub.status.idle": "2021-09-19T14:01:08.280140Z",
     "shell.execute_reply": "2021-09-19T14:01:08.280647Z",
     "shell.execute_reply.started": "2021-09-19T13:49:54.393623Z"
    },
    "papermill": {
     "duration": 0.051319,
     "end_time": "2021-09-19T14:01:08.280837",
     "exception": false,
     "start_time": "2021-09-19T14:01:08.229518",
     "status": "completed"
    },
    "tags": []
   },
   "outputs": [],
   "source": [
    "olympic_data = pd.read_csv(\"../input/2021-olympics-medals-in-tokyo/Tokyo Medals 2021.csv\")\n",
    "paralympic_data = pd.read_csv(\"../input/paralmpic-2020/Paralympic_Medal_Count.csv\")"
   ]
  },
  {
   "cell_type": "markdown",
   "id": "157f0f43",
   "metadata": {
    "papermill": {
     "duration": 0.024561,
     "end_time": "2021-09-19T14:01:08.330500",
     "exception": false,
     "start_time": "2021-09-19T14:01:08.305939",
     "status": "completed"
    },
    "tags": []
   },
   "source": [
    "# **Olympic Data**"
   ]
  },
  {
   "cell_type": "code",
   "execution_count": 4,
   "id": "0939b9a5",
   "metadata": {
    "execution": {
     "iopub.execute_input": "2021-09-19T14:01:08.391862Z",
     "iopub.status.busy": "2021-09-19T14:01:08.391136Z",
     "iopub.status.idle": "2021-09-19T14:01:08.402769Z",
     "shell.execute_reply": "2021-09-19T14:01:08.402048Z",
     "shell.execute_reply.started": "2021-09-19T13:49:54.413990Z"
    },
    "papermill": {
     "duration": 0.048003,
     "end_time": "2021-09-19T14:01:08.402921",
     "exception": false,
     "start_time": "2021-09-19T14:01:08.354918",
     "status": "completed"
    },
    "tags": []
   },
   "outputs": [
    {
     "name": "stdout",
     "output_type": "stream",
     "text": [
      "                       Country  Gold Medal  Silver Medal  Bronze Medal  Total  \\\n",
      "0     United States of America          39            41            33    113   \n",
      "1   People's Republic of China          38            32            18     88   \n",
      "2                        Japan          27            14            17     58   \n",
      "3                Great Britain          22            21            22     65   \n",
      "4                          ROC          20            28            23     71   \n",
      "..                         ...         ...           ...           ...    ...   \n",
      "88                       Ghana           0             0             1      1   \n",
      "89                     Grenada           0             0             1      1   \n",
      "90                      Kuwait           0             0             1      1   \n",
      "91         Republic of Moldova           0             0             1      1   \n",
      "92        Syrian Arab Republic           0             0             1      1   \n",
      "\n",
      "    Rank By Total  \n",
      "0               1  \n",
      "1               2  \n",
      "2               5  \n",
      "3               4  \n",
      "4               3  \n",
      "..            ...  \n",
      "88             77  \n",
      "89             77  \n",
      "90             77  \n",
      "91             77  \n",
      "92             77  \n",
      "\n",
      "[93 rows x 6 columns]\n"
     ]
    }
   ],
   "source": [
    "print(olympic_data)"
   ]
  },
  {
   "cell_type": "markdown",
   "id": "f7c29cf1",
   "metadata": {
    "papermill": {
     "duration": 0.024452,
     "end_time": "2021-09-19T14:01:08.453510",
     "exception": false,
     "start_time": "2021-09-19T14:01:08.429058",
     "status": "completed"
    },
    "tags": []
   },
   "source": [
    "# **Paralympic Data**"
   ]
  },
  {
   "cell_type": "code",
   "execution_count": 5,
   "id": "27fef633",
   "metadata": {
    "execution": {
     "iopub.execute_input": "2021-09-19T14:01:08.512250Z",
     "iopub.status.busy": "2021-09-19T14:01:08.511149Z",
     "iopub.status.idle": "2021-09-19T14:01:08.523036Z",
     "shell.execute_reply": "2021-09-19T14:01:08.522373Z",
     "shell.execute_reply.started": "2021-09-19T13:49:54.428281Z"
    },
    "papermill": {
     "duration": 0.045016,
     "end_time": "2021-09-19T14:01:08.523218",
     "exception": false,
     "start_time": "2021-09-19T14:01:08.478202",
     "status": "completed"
    },
    "tags": []
   },
   "outputs": [
    {
     "name": "stdout",
     "output_type": "stream",
     "text": [
      "                      Team/Npc  Gold  silver  bronze  total medals  \\\n",
      "0   People's Republic of China    96      60      51           207   \n",
      "1                Great Britain    41      38      45           124   \n",
      "2     United States of America    37      36      31           104   \n",
      "3                          RPC    36      33      49           118   \n",
      "4                  Netherlands    25      17      17            59   \n",
      "..                         ...   ...     ...     ...           ...   \n",
      "81                  Montenegro     0       0       1             1   \n",
      "82                        Oman     0       0       1             1   \n",
      "83                       Qatar     0       0       1             1   \n",
      "84              Chinese Taipei     0       0       1             1   \n",
      "85                      Uganda     0       0       1             1   \n",
      "\n",
      "    rank by total  \n",
      "0               1  \n",
      "1               2  \n",
      "2               4  \n",
      "3               3  \n",
      "4               9  \n",
      "..            ...  \n",
      "81             73  \n",
      "82             73  \n",
      "83             73  \n",
      "84             73  \n",
      "85             73  \n",
      "\n",
      "[86 rows x 6 columns]\n"
     ]
    }
   ],
   "source": [
    "print(paralympic_data)"
   ]
  },
  {
   "cell_type": "markdown",
   "id": "43e264bf",
   "metadata": {
    "papermill": {
     "duration": 0.02532,
     "end_time": "2021-09-19T14:01:08.576978",
     "exception": false,
     "start_time": "2021-09-19T14:01:08.551658",
     "status": "completed"
    },
    "tags": []
   },
   "source": [
    "# **Is there any null values in Olympic data**"
   ]
  },
  {
   "cell_type": "code",
   "execution_count": 6,
   "id": "aedb9bb6",
   "metadata": {
    "execution": {
     "iopub.execute_input": "2021-09-19T14:01:08.642638Z",
     "iopub.status.busy": "2021-09-19T14:01:08.641916Z",
     "iopub.status.idle": "2021-09-19T14:01:08.653776Z",
     "shell.execute_reply": "2021-09-19T14:01:08.653065Z",
     "shell.execute_reply.started": "2021-09-19T13:49:54.439643Z"
    },
    "papermill": {
     "duration": 0.051436,
     "end_time": "2021-09-19T14:01:08.653931",
     "exception": false,
     "start_time": "2021-09-19T14:01:08.602495",
     "status": "completed"
    },
    "tags": []
   },
   "outputs": [
    {
     "data": {
      "text/html": [
       "<div>\n",
       "<style scoped>\n",
       "    .dataframe tbody tr th:only-of-type {\n",
       "        vertical-align: middle;\n",
       "    }\n",
       "\n",
       "    .dataframe tbody tr th {\n",
       "        vertical-align: top;\n",
       "    }\n",
       "\n",
       "    .dataframe thead th {\n",
       "        text-align: right;\n",
       "    }\n",
       "</style>\n",
       "<table border=\"1\" class=\"dataframe\">\n",
       "  <thead>\n",
       "    <tr style=\"text-align: right;\">\n",
       "      <th></th>\n",
       "      <th>Country</th>\n",
       "      <th>Gold Medal</th>\n",
       "      <th>Silver Medal</th>\n",
       "      <th>Bronze Medal</th>\n",
       "      <th>Total</th>\n",
       "      <th>Rank By Total</th>\n",
       "    </tr>\n",
       "  </thead>\n",
       "  <tbody>\n",
       "    <tr>\n",
       "      <th>0</th>\n",
       "      <td>False</td>\n",
       "      <td>False</td>\n",
       "      <td>False</td>\n",
       "      <td>False</td>\n",
       "      <td>False</td>\n",
       "      <td>False</td>\n",
       "    </tr>\n",
       "    <tr>\n",
       "      <th>1</th>\n",
       "      <td>False</td>\n",
       "      <td>False</td>\n",
       "      <td>False</td>\n",
       "      <td>False</td>\n",
       "      <td>False</td>\n",
       "      <td>False</td>\n",
       "    </tr>\n",
       "    <tr>\n",
       "      <th>2</th>\n",
       "      <td>False</td>\n",
       "      <td>False</td>\n",
       "      <td>False</td>\n",
       "      <td>False</td>\n",
       "      <td>False</td>\n",
       "      <td>False</td>\n",
       "    </tr>\n",
       "    <tr>\n",
       "      <th>3</th>\n",
       "      <td>False</td>\n",
       "      <td>False</td>\n",
       "      <td>False</td>\n",
       "      <td>False</td>\n",
       "      <td>False</td>\n",
       "      <td>False</td>\n",
       "    </tr>\n",
       "    <tr>\n",
       "      <th>4</th>\n",
       "      <td>False</td>\n",
       "      <td>False</td>\n",
       "      <td>False</td>\n",
       "      <td>False</td>\n",
       "      <td>False</td>\n",
       "      <td>False</td>\n",
       "    </tr>\n",
       "    <tr>\n",
       "      <th>...</th>\n",
       "      <td>...</td>\n",
       "      <td>...</td>\n",
       "      <td>...</td>\n",
       "      <td>...</td>\n",
       "      <td>...</td>\n",
       "      <td>...</td>\n",
       "    </tr>\n",
       "    <tr>\n",
       "      <th>88</th>\n",
       "      <td>False</td>\n",
       "      <td>False</td>\n",
       "      <td>False</td>\n",
       "      <td>False</td>\n",
       "      <td>False</td>\n",
       "      <td>False</td>\n",
       "    </tr>\n",
       "    <tr>\n",
       "      <th>89</th>\n",
       "      <td>False</td>\n",
       "      <td>False</td>\n",
       "      <td>False</td>\n",
       "      <td>False</td>\n",
       "      <td>False</td>\n",
       "      <td>False</td>\n",
       "    </tr>\n",
       "    <tr>\n",
       "      <th>90</th>\n",
       "      <td>False</td>\n",
       "      <td>False</td>\n",
       "      <td>False</td>\n",
       "      <td>False</td>\n",
       "      <td>False</td>\n",
       "      <td>False</td>\n",
       "    </tr>\n",
       "    <tr>\n",
       "      <th>91</th>\n",
       "      <td>False</td>\n",
       "      <td>False</td>\n",
       "      <td>False</td>\n",
       "      <td>False</td>\n",
       "      <td>False</td>\n",
       "      <td>False</td>\n",
       "    </tr>\n",
       "    <tr>\n",
       "      <th>92</th>\n",
       "      <td>False</td>\n",
       "      <td>False</td>\n",
       "      <td>False</td>\n",
       "      <td>False</td>\n",
       "      <td>False</td>\n",
       "      <td>False</td>\n",
       "    </tr>\n",
       "  </tbody>\n",
       "</table>\n",
       "<p>93 rows × 6 columns</p>\n",
       "</div>"
      ],
      "text/plain": [
       "    Country  Gold Medal  Silver Medal  Bronze Medal  Total  Rank By Total\n",
       "0     False       False         False         False  False          False\n",
       "1     False       False         False         False  False          False\n",
       "2     False       False         False         False  False          False\n",
       "3     False       False         False         False  False          False\n",
       "4     False       False         False         False  False          False\n",
       "..      ...         ...           ...           ...    ...            ...\n",
       "88    False       False         False         False  False          False\n",
       "89    False       False         False         False  False          False\n",
       "90    False       False         False         False  False          False\n",
       "91    False       False         False         False  False          False\n",
       "92    False       False         False         False  False          False\n",
       "\n",
       "[93 rows x 6 columns]"
      ]
     },
     "execution_count": 6,
     "metadata": {},
     "output_type": "execute_result"
    }
   ],
   "source": [
    "olympic_data.isnull()"
   ]
  },
  {
   "cell_type": "markdown",
   "id": "30d8be38",
   "metadata": {
    "papermill": {
     "duration": 0.025553,
     "end_time": "2021-09-19T14:01:08.705803",
     "exception": false,
     "start_time": "2021-09-19T14:01:08.680250",
     "status": "completed"
    },
    "tags": []
   },
   "source": [
    "# **Total Null Values in Olympic data**"
   ]
  },
  {
   "cell_type": "code",
   "execution_count": 7,
   "id": "f5362eab",
   "metadata": {
    "execution": {
     "iopub.execute_input": "2021-09-19T14:01:08.766264Z",
     "iopub.status.busy": "2021-09-19T14:01:08.765488Z",
     "iopub.status.idle": "2021-09-19T14:01:08.772676Z",
     "shell.execute_reply": "2021-09-19T14:01:08.771968Z",
     "shell.execute_reply.started": "2021-09-19T13:49:54.461816Z"
    },
    "papermill": {
     "duration": 0.038869,
     "end_time": "2021-09-19T14:01:08.772832",
     "exception": false,
     "start_time": "2021-09-19T14:01:08.733963",
     "status": "completed"
    },
    "tags": []
   },
   "outputs": [
    {
     "data": {
      "text/plain": [
       "Country          0\n",
       "Gold Medal       0\n",
       "Silver Medal     0\n",
       "Bronze Medal     0\n",
       "Total            0\n",
       "Rank By Total    0\n",
       "dtype: int64"
      ]
     },
     "execution_count": 7,
     "metadata": {},
     "output_type": "execute_result"
    }
   ],
   "source": [
    "olympic_data.isnull().sum()"
   ]
  },
  {
   "cell_type": "markdown",
   "id": "634e50ae",
   "metadata": {
    "papermill": {
     "duration": 0.028974,
     "end_time": "2021-09-19T14:01:08.828979",
     "exception": false,
     "start_time": "2021-09-19T14:01:08.800005",
     "status": "completed"
    },
    "tags": []
   },
   "source": [
    "# **Is there any null values in paralympic data**"
   ]
  },
  {
   "cell_type": "code",
   "execution_count": 8,
   "id": "f2d84b2d",
   "metadata": {
    "execution": {
     "iopub.execute_input": "2021-09-19T14:01:08.887115Z",
     "iopub.status.busy": "2021-09-19T14:01:08.886458Z",
     "iopub.status.idle": "2021-09-19T14:01:08.903035Z",
     "shell.execute_reply": "2021-09-19T14:01:08.903553Z",
     "shell.execute_reply.started": "2021-09-19T13:49:54.476542Z"
    },
    "papermill": {
     "duration": 0.046173,
     "end_time": "2021-09-19T14:01:08.903778",
     "exception": false,
     "start_time": "2021-09-19T14:01:08.857605",
     "status": "completed"
    },
    "tags": []
   },
   "outputs": [
    {
     "data": {
      "text/html": [
       "<div>\n",
       "<style scoped>\n",
       "    .dataframe tbody tr th:only-of-type {\n",
       "        vertical-align: middle;\n",
       "    }\n",
       "\n",
       "    .dataframe tbody tr th {\n",
       "        vertical-align: top;\n",
       "    }\n",
       "\n",
       "    .dataframe thead th {\n",
       "        text-align: right;\n",
       "    }\n",
       "</style>\n",
       "<table border=\"1\" class=\"dataframe\">\n",
       "  <thead>\n",
       "    <tr style=\"text-align: right;\">\n",
       "      <th></th>\n",
       "      <th>Team/Npc</th>\n",
       "      <th>Gold</th>\n",
       "      <th>silver</th>\n",
       "      <th>bronze</th>\n",
       "      <th>total medals</th>\n",
       "      <th>rank by total</th>\n",
       "    </tr>\n",
       "  </thead>\n",
       "  <tbody>\n",
       "    <tr>\n",
       "      <th>0</th>\n",
       "      <td>False</td>\n",
       "      <td>False</td>\n",
       "      <td>False</td>\n",
       "      <td>False</td>\n",
       "      <td>False</td>\n",
       "      <td>False</td>\n",
       "    </tr>\n",
       "    <tr>\n",
       "      <th>1</th>\n",
       "      <td>False</td>\n",
       "      <td>False</td>\n",
       "      <td>False</td>\n",
       "      <td>False</td>\n",
       "      <td>False</td>\n",
       "      <td>False</td>\n",
       "    </tr>\n",
       "    <tr>\n",
       "      <th>2</th>\n",
       "      <td>False</td>\n",
       "      <td>False</td>\n",
       "      <td>False</td>\n",
       "      <td>False</td>\n",
       "      <td>False</td>\n",
       "      <td>False</td>\n",
       "    </tr>\n",
       "    <tr>\n",
       "      <th>3</th>\n",
       "      <td>False</td>\n",
       "      <td>False</td>\n",
       "      <td>False</td>\n",
       "      <td>False</td>\n",
       "      <td>False</td>\n",
       "      <td>False</td>\n",
       "    </tr>\n",
       "    <tr>\n",
       "      <th>4</th>\n",
       "      <td>False</td>\n",
       "      <td>False</td>\n",
       "      <td>False</td>\n",
       "      <td>False</td>\n",
       "      <td>False</td>\n",
       "      <td>False</td>\n",
       "    </tr>\n",
       "    <tr>\n",
       "      <th>...</th>\n",
       "      <td>...</td>\n",
       "      <td>...</td>\n",
       "      <td>...</td>\n",
       "      <td>...</td>\n",
       "      <td>...</td>\n",
       "      <td>...</td>\n",
       "    </tr>\n",
       "    <tr>\n",
       "      <th>81</th>\n",
       "      <td>False</td>\n",
       "      <td>False</td>\n",
       "      <td>False</td>\n",
       "      <td>False</td>\n",
       "      <td>False</td>\n",
       "      <td>False</td>\n",
       "    </tr>\n",
       "    <tr>\n",
       "      <th>82</th>\n",
       "      <td>False</td>\n",
       "      <td>False</td>\n",
       "      <td>False</td>\n",
       "      <td>False</td>\n",
       "      <td>False</td>\n",
       "      <td>False</td>\n",
       "    </tr>\n",
       "    <tr>\n",
       "      <th>83</th>\n",
       "      <td>False</td>\n",
       "      <td>False</td>\n",
       "      <td>False</td>\n",
       "      <td>False</td>\n",
       "      <td>False</td>\n",
       "      <td>False</td>\n",
       "    </tr>\n",
       "    <tr>\n",
       "      <th>84</th>\n",
       "      <td>False</td>\n",
       "      <td>False</td>\n",
       "      <td>False</td>\n",
       "      <td>False</td>\n",
       "      <td>False</td>\n",
       "      <td>False</td>\n",
       "    </tr>\n",
       "    <tr>\n",
       "      <th>85</th>\n",
       "      <td>False</td>\n",
       "      <td>False</td>\n",
       "      <td>False</td>\n",
       "      <td>False</td>\n",
       "      <td>False</td>\n",
       "      <td>False</td>\n",
       "    </tr>\n",
       "  </tbody>\n",
       "</table>\n",
       "<p>86 rows × 6 columns</p>\n",
       "</div>"
      ],
      "text/plain": [
       "    Team/Npc   Gold  silver  bronze  total medals  rank by total\n",
       "0      False  False   False   False         False          False\n",
       "1      False  False   False   False         False          False\n",
       "2      False  False   False   False         False          False\n",
       "3      False  False   False   False         False          False\n",
       "4      False  False   False   False         False          False\n",
       "..       ...    ...     ...     ...           ...            ...\n",
       "81     False  False   False   False         False          False\n",
       "82     False  False   False   False         False          False\n",
       "83     False  False   False   False         False          False\n",
       "84     False  False   False   False         False          False\n",
       "85     False  False   False   False         False          False\n",
       "\n",
       "[86 rows x 6 columns]"
      ]
     },
     "execution_count": 8,
     "metadata": {},
     "output_type": "execute_result"
    }
   ],
   "source": [
    "paralympic_data.isnull()"
   ]
  },
  {
   "cell_type": "markdown",
   "id": "dc34f6fc",
   "metadata": {
    "papermill": {
     "duration": 0.028043,
     "end_time": "2021-09-19T14:01:08.960044",
     "exception": false,
     "start_time": "2021-09-19T14:01:08.932001",
     "status": "completed"
    },
    "tags": []
   },
   "source": [
    "# ** Total null values in paralympic data**"
   ]
  },
  {
   "cell_type": "code",
   "execution_count": 9,
   "id": "cc452ab7",
   "metadata": {
    "execution": {
     "iopub.execute_input": "2021-09-19T14:01:09.020076Z",
     "iopub.status.busy": "2021-09-19T14:01:09.019414Z",
     "iopub.status.idle": "2021-09-19T14:01:09.027978Z",
     "shell.execute_reply": "2021-09-19T14:01:09.028479Z",
     "shell.execute_reply.started": "2021-09-19T13:49:54.499384Z"
    },
    "papermill": {
     "duration": 0.039891,
     "end_time": "2021-09-19T14:01:09.028679",
     "exception": false,
     "start_time": "2021-09-19T14:01:08.988788",
     "status": "completed"
    },
    "tags": []
   },
   "outputs": [
    {
     "data": {
      "text/plain": [
       "Team/Npc         0\n",
       "Gold             0\n",
       "silver           0\n",
       "bronze           0\n",
       "total medals     0\n",
       "rank by total    0\n",
       "dtype: int64"
      ]
     },
     "execution_count": 9,
     "metadata": {},
     "output_type": "execute_result"
    }
   ],
   "source": [
    "paralympic_data.isnull().sum()"
   ]
  },
  {
   "cell_type": "markdown",
   "id": "c7b9867c",
   "metadata": {
    "papermill": {
     "duration": 0.029516,
     "end_time": "2021-09-19T14:01:09.087767",
     "exception": false,
     "start_time": "2021-09-19T14:01:09.058251",
     "status": "completed"
    },
    "tags": []
   },
   "source": [
    "# **India Olympic Medal distribution**"
   ]
  },
  {
   "cell_type": "code",
   "execution_count": 10,
   "id": "bbd28851",
   "metadata": {
    "execution": {
     "iopub.execute_input": "2021-09-19T14:01:09.151070Z",
     "iopub.status.busy": "2021-09-19T14:01:09.150380Z",
     "iopub.status.idle": "2021-09-19T14:01:09.168595Z",
     "shell.execute_reply": "2021-09-19T14:01:09.167998Z",
     "shell.execute_reply.started": "2021-09-19T13:49:54.514774Z"
    },
    "papermill": {
     "duration": 0.051469,
     "end_time": "2021-09-19T14:01:09.168739",
     "exception": false,
     "start_time": "2021-09-19T14:01:09.117270",
     "status": "completed"
    },
    "tags": []
   },
   "outputs": [
    {
     "name": "stdout",
     "output_type": "stream",
     "text": [
      "   Country  Gold Medal  Silver Medal  Bronze Medal  Total  Rank By Total\n",
      "47   India           1             2             4      7             33\n"
     ]
    }
   ],
   "source": [
    "font1 = {'family':'serif','color':'blue','size':12}\n",
    "font2 = {'family':'serif','color':'grey','size':12}\n",
    "font3 = {'family':'serif','color':'red','size':18}\n",
    "\n",
    "country_name = 'India'\n",
    "country_data = olympic_data.loc[olympic_data[\"Country\"]==country_name]\n",
    "print(country_data)\n",
    "\n",
    "country_gold = country_data['Gold Medal'].values\n",
    "country_silver = country_data['Silver Medal'].values\n",
    "country_bronze = country_data['Bronze Medal'].values\n",
    "country_record = []\n",
    "country_record.append(country_gold[0])\n",
    "country_record.append(country_silver[0])\n",
    "country_record.append(country_bronze[0])\n"
   ]
  },
  {
   "cell_type": "markdown",
   "id": "08d4a5b6",
   "metadata": {
    "papermill": {
     "duration": 0.027484,
     "end_time": "2021-09-19T14:01:09.224647",
     "exception": false,
     "start_time": "2021-09-19T14:01:09.197163",
     "status": "completed"
    },
    "tags": []
   },
   "source": [
    "# **Medal Distribution graph of Country**"
   ]
  },
  {
   "cell_type": "code",
   "execution_count": 11,
   "id": "36438865",
   "metadata": {
    "execution": {
     "iopub.execute_input": "2021-09-19T14:01:09.307816Z",
     "iopub.status.busy": "2021-09-19T14:01:09.307008Z",
     "iopub.status.idle": "2021-09-19T14:01:09.547710Z",
     "shell.execute_reply": "2021-09-19T14:01:09.547104Z",
     "shell.execute_reply.started": "2021-09-19T13:49:54.531294Z"
    },
    "papermill": {
     "duration": 0.293982,
     "end_time": "2021-09-19T14:01:09.547879",
     "exception": false,
     "start_time": "2021-09-19T14:01:09.253897",
     "status": "completed"
    },
    "tags": []
   },
   "outputs": [
    {
     "data": {
      "image/png": "[encoded data removed]",
      "text/plain": [
       "<Figure size 720x432 with 1 Axes>"
      ]
     },
     "metadata": {
      "needs_background": "light"
     },
     "output_type": "display_data"
    }
   ],
   "source": [
    "medal_name = ['Gold','Silver','Bronze']\n",
    "plt.figure(figsize=(10,6))\n",
    "plt.bar(medal_name,country_record,width = 0.5,color=['c','b','g'])\n",
    "plt.title(country_name+\" \"+\"Medal Distribution in Olympics\",fontdict=font3)\n",
    "plt.xlabel(\"Medal Name\",fontdict=font1)\n",
    "plt.ylabel(\"Number of Medals\",fontdict=font2)\n",
    "for i in range(3):\n",
    "    plt.text(medal_name[i],country_record[i],country_record[i],ha = 'center',va='bottom')\n",
    "plt.show()\n"
   ]
  },
  {
   "cell_type": "markdown",
   "id": "d7e3ddc2",
   "metadata": {
    "papermill": {
     "duration": 0.028769,
     "end_time": "2021-09-19T14:01:09.605428",
     "exception": false,
     "start_time": "2021-09-19T14:01:09.576659",
     "status": "completed"
    },
    "tags": []
   },
   "source": [
    "# **India Paralympic Medal Distribution**"
   ]
  },
  {
   "cell_type": "code",
   "execution_count": 12,
   "id": "51d9c90b",
   "metadata": {
    "execution": {
     "iopub.execute_input": "2021-09-19T14:01:09.678678Z",
     "iopub.status.busy": "2021-09-19T14:01:09.677983Z",
     "iopub.status.idle": "2021-09-19T14:01:09.682133Z",
     "shell.execute_reply": "2021-09-19T14:01:09.681558Z",
     "shell.execute_reply.started": "2021-09-19T13:49:54.735304Z"
    },
    "papermill": {
     "duration": 0.04567,
     "end_time": "2021-09-19T14:01:09.682293",
     "exception": false,
     "start_time": "2021-09-19T14:01:09.636623",
     "status": "completed"
    },
    "tags": []
   },
   "outputs": [
    {
     "name": "stdout",
     "output_type": "stream",
     "text": [
      "   Team/Npc  Gold  silver  bronze  total medals  rank by total\n",
      "23    India     5       8       6            19             20\n"
     ]
    }
   ],
   "source": [
    "paralympic_search_country = 'India'\n",
    "paralympic_country_name = paralympic_data.loc[paralympic_data['Team/Npc']==paralympic_search_country]\n",
    "print(paralympic_country_name)\n",
    "paralympic_country_gold = paralympic_country_name['Gold'].values\n",
    "paralympic_country_silver = paralympic_country_name['silver'].values\n",
    "paralympic_country_bronze = paralympic_country_name['bronze'].values\n",
    "\n",
    "paralympic_country_record = []\n",
    "paralympic_country_record.append(paralympic_country_gold[0])\n",
    "paralympic_country_record.append(paralympic_country_silver[0])\n",
    "paralympic_country_record.append(paralympic_country_bronze[0])\n"
   ]
  },
  {
   "cell_type": "markdown",
   "id": "f566cfb0",
   "metadata": {
    "papermill": {
     "duration": 0.030552,
     "end_time": "2021-09-19T14:01:09.745346",
     "exception": false,
     "start_time": "2021-09-19T14:01:09.714794",
     "status": "completed"
    },
    "tags": []
   },
   "source": [
    "# **India Paralympic Medal distribution**"
   ]
  },
  {
   "cell_type": "code",
   "execution_count": 13,
   "id": "ea37a26a",
   "metadata": {
    "execution": {
     "iopub.execute_input": "2021-09-19T14:01:09.845166Z",
     "iopub.status.busy": "2021-09-19T14:01:09.839932Z",
     "iopub.status.idle": "2021-09-19T14:01:10.032548Z",
     "shell.execute_reply": "2021-09-19T14:01:10.031918Z",
     "shell.execute_reply.started": "2021-09-19T13:49:54.748116Z"
    },
    "papermill": {
     "duration": 0.256742,
     "end_time": "2021-09-19T14:01:10.032953",
     "exception": false,
     "start_time": "2021-09-19T14:01:09.776211",
     "status": "completed"
    },
    "tags": []
   },
   "outputs": [
    {
     "data": {
      "image/png": "[encoded data removed]",
      "text/plain": [
       "<Figure size 720x432 with 1 Axes>"
      ]
     },
     "metadata": {
      "needs_background": "light"
     },
     "output_type": "display_data"
    }
   ],
   "source": [
    "plt.figure(figsize=(10,6))\n",
    "plt.bar(medal_name,paralympic_country_record,width = 0.3,color=['g','r','b'])\n",
    "plt.title(str(paralympic_search_country)+' '+'Paralympic Medal Distribution',fontdict = font3)\n",
    "plt.xlabel(\"Type of Medal\",fontdict = font2)\n",
    "plt.ylabel('Number of Medals',fontdict=font1)\n",
    "for i in range(3):\n",
    "    plt.text(medal_name[i],paralympic_country_record[i],paralympic_country_record[i],ha='center',va='bottom',fontdict=font1)\n",
    "plt.show()"
   ]
  },
  {
   "cell_type": "markdown",
   "id": "7edd72b7",
   "metadata": {
    "papermill": {
     "duration": 0.031269,
     "end_time": "2021-09-19T14:01:10.097238",
     "exception": false,
     "start_time": "2021-09-19T14:01:10.065969",
     "status": "completed"
    },
    "tags": []
   },
   "source": [
    "# **TOP 10 COUNTRIES OLYMPIC MEDAL DISTRIBUTION**"
   ]
  },
  {
   "cell_type": "code",
   "execution_count": 14,
   "id": "0eac3c7e",
   "metadata": {
    "execution": {
     "iopub.execute_input": "2021-09-19T14:01:10.169609Z",
     "iopub.status.busy": "2021-09-19T14:01:10.168240Z",
     "iopub.status.idle": "2021-09-19T14:01:10.171961Z",
     "shell.execute_reply": "2021-09-19T14:01:10.172480Z",
     "shell.execute_reply.started": "2021-09-19T13:49:54.954903Z"
    },
    "papermill": {
     "duration": 0.045902,
     "end_time": "2021-09-19T14:01:10.172660",
     "exception": false,
     "start_time": "2021-09-19T14:01:10.126758",
     "status": "completed"
    },
    "tags": []
   },
   "outputs": [
    {
     "name": "stdout",
     "output_type": "stream",
     "text": [
      "                      Country  Gold Medal  Silver Medal  Bronze Medal  Total  \\\n",
      "0    United States of America          39            41            33    113   \n",
      "1  People's Republic of China          38            32            18     88   \n",
      "2                       Japan          27            14            17     58   \n",
      "3               Great Britain          22            21            22     65   \n",
      "4                         ROC          20            28            23     71   \n",
      "5                   Australia          17             7            22     46   \n",
      "6                 Netherlands          10            12            14     36   \n",
      "7                      France          10            12            11     33   \n",
      "8                     Germany          10            11            16     37   \n",
      "9                       Italy          10            10            20     40   \n",
      "\n",
      "   Rank By Total  \n",
      "0              1  \n",
      "1              2  \n",
      "2              5  \n",
      "3              4  \n",
      "4              3  \n",
      "5              6  \n",
      "6              9  \n",
      "7             10  \n",
      "8              8  \n",
      "9              7  \n"
     ]
    }
   ],
   "source": [
    "print(olympic_data.head(10))"
   ]
  },
  {
   "cell_type": "markdown",
   "id": "2cf4cba9",
   "metadata": {
    "papermill": {
     "duration": 0.03123,
     "end_time": "2021-09-19T14:01:10.235407",
     "exception": false,
     "start_time": "2021-09-19T14:01:10.204177",
     "status": "completed"
    },
    "tags": []
   },
   "source": [
    "# **VISUALIZING**"
   ]
  },
  {
   "cell_type": "code",
   "execution_count": 15,
   "id": "1a24884a",
   "metadata": {
    "execution": {
     "iopub.execute_input": "2021-09-19T14:01:10.333620Z",
     "iopub.status.busy": "2021-09-19T14:01:10.323967Z",
     "iopub.status.idle": "2021-09-19T14:01:10.757146Z",
     "shell.execute_reply": "2021-09-19T14:01:10.756517Z",
     "shell.execute_reply.started": "2021-09-19T13:49:54.964044Z"
    },
    "papermill": {
     "duration": 0.49213,
     "end_time": "2021-09-19T14:01:10.757299",
     "exception": false,
     "start_time": "2021-09-19T14:01:10.265169",
     "status": "completed"
    },
    "tags": []
   },
   "outputs": [
    {
     "data": {
      "image/png": "[encoded data removed]",
      "text/plain": [
       "<Figure size 720x432 with 1 Axes>"
      ]
     },
     "metadata": {
      "needs_background": "light"
     },
     "output_type": "display_data"
    }
   ],
   "source": [
    "number = [i for i in range(10)]\n",
    "top_countries_data = olympic_data.head(10)\n",
    "top_countries_name = olympic_data['Country'].head(10).values\n",
    "top_countries_gold_medals = olympic_data['Gold Medal'].head(10).values\n",
    "top_countries_silver_medals = olympic_data['Silver Medal'].head(10).values\n",
    "top_countries_bronze_medals = olympic_data['Bronze Medal'].head(10).values\n",
    "plt.figure(figsize=(10,6))\n",
    "plt.bar(number,top_countries_gold_medals,label=\"Gold\")\n",
    "plt.bar(number,top_countries_silver_medals,bottom=top_countries_gold_medals,label=\"Silver\")\n",
    "remaining = np.add(top_countries_gold_medals,top_countries_silver_medals)\n",
    "plt.bar(number,top_countries_bronze_medals,bottom=remaining,label='Bronze')\n",
    "plt.legend()\n",
    "plt.title(\"Top Countries Olympic  Medal Distribution\",fontdict = font3)\n",
    "plt.xlabel(\"Name of Country\",fontdict=font2)\n",
    "plt.ylabel(\"Number of Medals\",fontdict=font1)\n",
    "plt.xticks(number,top_countries_name,rotation = 90,color = 'purple')\n",
    "for i in range(len(number)):\n",
    "\n",
    "    plt.text(i,top_countries_gold_medals[i]//2,top_countries_gold_medals[i],ha='center',color='k')\n",
    "    plt.text(i,top_countries_bronze_medals[i]//2+top_countries_gold_medals[i]+top_countries_silver_medals[i],top_countries_bronze_medals[i],ha='center',color='b')\n",
    "    plt.text(i,top_countries_silver_medals[i]//2+top_countries_gold_medals[i],top_countries_silver_medals[i],ha='center',color='maroon')\n",
    "plt.show()"
   ]
  },
  {
   "cell_type": "markdown",
   "id": "d56ad915",
   "metadata": {
    "papermill": {
     "duration": 0.031539,
     "end_time": "2021-09-19T14:01:10.821287",
     "exception": false,
     "start_time": "2021-09-19T14:01:10.789748",
     "status": "completed"
    },
    "tags": []
   },
   "source": [
    "# **TOP 10 COUNTRIES PARALYMPIC MEDAL DISTRIBUTION**"
   ]
  },
  {
   "cell_type": "code",
   "execution_count": 16,
   "id": "5b9cb097",
   "metadata": {
    "execution": {
     "iopub.execute_input": "2021-09-19T14:01:10.894589Z",
     "iopub.status.busy": "2021-09-19T14:01:10.893786Z",
     "iopub.status.idle": "2021-09-19T14:01:10.898598Z",
     "shell.execute_reply": "2021-09-19T14:01:10.897799Z",
     "shell.execute_reply.started": "2021-09-19T13:49:55.395166Z"
    },
    "papermill": {
     "duration": 0.04587,
     "end_time": "2021-09-19T14:01:10.898789",
     "exception": false,
     "start_time": "2021-09-19T14:01:10.852919",
     "status": "completed"
    },
    "tags": []
   },
   "outputs": [
    {
     "name": "stdout",
     "output_type": "stream",
     "text": [
      "                     Team/Npc  Gold  silver  bronze  total medals  \\\n",
      "0  People's Republic of China    96      60      51           207   \n",
      "1               Great Britain    41      38      45           124   \n",
      "2    United States of America    37      36      31           104   \n",
      "3                         RPC    36      33      49           118   \n",
      "4                 Netherlands    25      17      17            59   \n",
      "5                     Ukraine    24      47      27            98   \n",
      "6                      Brazil    22      20      30            72   \n",
      "7                   Australia    21      29      30            80   \n",
      "8                       Italy    14      29      26            69   \n",
      "9                  Azerbaijan    14       1       4            19   \n",
      "\n",
      "   rank by total  \n",
      "0              1  \n",
      "1              2  \n",
      "2              4  \n",
      "3              3  \n",
      "4              9  \n",
      "5              5  \n",
      "6              7  \n",
      "7              6  \n",
      "8              8  \n",
      "9             20  \n"
     ]
    }
   ],
   "source": [
    "print(paralympic_data.head(10))"
   ]
  },
  {
   "cell_type": "markdown",
   "id": "d1531a01",
   "metadata": {
    "papermill": {
     "duration": 0.031465,
     "end_time": "2021-09-19T14:01:10.964494",
     "exception": false,
     "start_time": "2021-09-19T14:01:10.933029",
     "status": "completed"
    },
    "tags": []
   },
   "source": [
    "# **VISUALIZING**"
   ]
  },
  {
   "cell_type": "code",
   "execution_count": 17,
   "id": "796e0b6d",
   "metadata": {
    "execution": {
     "iopub.execute_input": "2021-09-19T14:01:11.045033Z",
     "iopub.status.busy": "2021-09-19T14:01:11.044325Z",
     "iopub.status.idle": "2021-09-19T14:01:11.612723Z",
     "shell.execute_reply": "2021-09-19T14:01:11.612014Z",
     "shell.execute_reply.started": "2021-09-19T13:49:55.405566Z"
    },
    "papermill": {
     "duration": 0.615165,
     "end_time": "2021-09-19T14:01:11.612993",
     "exception": false,
     "start_time": "2021-09-19T14:01:10.997828",
     "status": "completed"
    },
    "tags": []
   },
   "outputs": [
    {
     "data": {
      "image/png": "[encoded data removed]",
      "text/plain": [
       "<Figure size 1080x576 with 1 Axes>"
      ]
     },
     "metadata": {
      "needs_background": "light"
     },
     "output_type": "display_data"
    }
   ],
   "source": [
    "number = [i for i in range(10)]\n",
    "top_countries = paralympic_data.head(10)\n",
    "top_countries_name_ = paralympic_data['Team/Npc'].head(10).values\n",
    "top_countries_gold = paralympic_data['Gold'].head(10).values\n",
    "top_countries_silver = paralympic_data['silver'].head(10).values\n",
    "top_countries_bronze = paralympic_data['bronze'].head(10).values\n",
    "plt.figure(figsize=(15,8))\n",
    "plt.bar(number,top_countries_gold,width=0.5,label=\"Gold\")\n",
    "plt.bar(number,top_countries_silver,width=0.5,bottom=top_countries_gold,label=\"Silver\")\n",
    "remain = np.add(top_countries_gold,top_countries_silver)\n",
    "plt.bar(number,top_countries_bronze,width=0.5,bottom=remain,label='Bronze')\n",
    "plt.legend()\n",
    "plt.title(\"Top Countries Paraympic  Medal Distribution\",fontdict = font3)\n",
    "plt.xlabel(\"Name of Country\",fontdict=font2)\n",
    "plt.ylabel(\"Number of Medals\",fontdict=font1)\n",
    "plt.xticks(number,top_countries_name_,rotation = 90,color = 'purple')\n",
    "for i in range(len(number)):\n",
    "\n",
    "    plt.text(i,top_countries_gold[i]//2,top_countries_gold[i],ha='center',color='k')\n",
    "    plt.text(i,top_countries_bronze[i]//2+top_countries_gold[i]+top_countries_silver[i],top_countries_bronze[i],ha='center',color='b')\n",
    "    plt.text(i,top_countries_silver[i]//2+top_countries_gold[i],top_countries_silver[i],ha='center',color='maroon')\n",
    "plt.show()"
   ]
  },
  {
   "cell_type": "markdown",
   "id": "711eca95",
   "metadata": {
    "papermill": {
     "duration": 0.035663,
     "end_time": "2021-09-19T14:01:11.697345",
     "exception": false,
     "start_time": "2021-09-19T14:01:11.661682",
     "status": "completed"
    },
    "tags": []
   },
   "source": []
  },
  {
   "cell_type": "markdown",
   "id": "5cd14426",
   "metadata": {
    "papermill": {
     "duration": 0.033974,
     "end_time": "2021-09-19T14:01:11.765581",
     "exception": false,
     "start_time": "2021-09-19T14:01:11.731607",
     "status": "completed"
    },
    "tags": []
   },
   "source": [
    "# **India olympic vs Paralympic medal distribution**"
   ]
  },
  {
   "cell_type": "code",
   "execution_count": 18,
   "id": "d99c90ce",
   "metadata": {
    "execution": {
     "iopub.execute_input": "2021-09-19T14:01:11.848491Z",
     "iopub.status.busy": "2021-09-19T14:01:11.847722Z",
     "iopub.status.idle": "2021-09-19T14:01:12.058651Z",
     "shell.execute_reply": "2021-09-19T14:01:12.059201Z",
     "shell.execute_reply.started": "2021-09-19T14:00:41.016906Z"
    },
    "papermill": {
     "duration": 0.260438,
     "end_time": "2021-09-19T14:01:12.059393",
     "exception": false,
     "start_time": "2021-09-19T14:01:11.798955",
     "status": "completed"
    },
    "tags": []
   },
   "outputs": [
    {
     "data": {
      "image/png": "[encoded data removed]",
      "text/plain": [
       "<Figure size 432x288 with 1 Axes>"
      ]
     },
     "metadata": {
      "needs_background": "light"
     },
     "output_type": "display_data"
    }
   ],
   "source": [
    "plt.plot(medal_name,country_record,label='Olympic')\n",
    "plt.plot(medal_name,paralympic_country_record,label='Paralympic')\n",
    "plt.legend()\n",
    "plt.title(\"Olympic vs Paralympic Medal Distribution\",fontdict=font3)\n",
    "plt.show()\n"
   ]
  },
  {
   "cell_type": "markdown",
   "id": "584c3c95",
   "metadata": {
    "papermill": {
     "duration": 0.040367,
     "end_time": "2021-09-19T14:01:12.136989",
     "exception": false,
     "start_time": "2021-09-19T14:01:12.096622",
     "status": "completed"
    },
    "tags": []
   },
   "source": []
  }
 ],
 "metadata": {
  "kernelspec": {
   "display_name": "Python 3",
   "language": "python",
   "name": "python3"
  },
  "language_info": {
   "codemirror_mode": {
    "name": "ipython",
    "version": 3
   },
   "file_extension": ".py",
   "mimetype": "text/x-python",
   "name": "python",
   "nbconvert_exporter": "python",
   "pygments_lexer": "ipython3",
   "version": "3.7.10"
  },
  "papermill": {
   "default_parameters": {},
   "duration": 14.618516,
   "end_time": "2021-09-19T14:01:12.784601",
   "environment_variables": {},
   "exception": null,
   "input_path": "__notebook__.ipynb",
   "output_path": "__notebook__.ipynb",
   "parameters": {},
   "start_time": "2021-09-19T14:00:58.166085",
   "version": "2.3.3"
  }
 },
 "nbformat": 4,
 "nbformat_minor": 5
}
